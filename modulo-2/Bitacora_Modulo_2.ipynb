{
  "nbformat": 4,
  "nbformat_minor": 0,
  "metadata": {
    "colab": {
      "provenance": []
    },
    "kernelspec": {
      "name": "python3",
      "display_name": "Python 3"
    },
    "language_info": {
      "name": "python"
    }
  },
  "cells": [
    {
      "cell_type": "markdown",
      "source": [
        "Clase M2 AE1:El lenguaje Python\n",
        "\n",
        "Práctica con Python\n",
        "Contexto:\n",
        "Reconocer los elementos centrales del marco de trabajo Scrum para comprender cómo se estructura y funciona en un entorno ágil.\n",
        "\n",
        "Consigna:\n",
        "Construye un programa que simule una calculadora básica, pero cada operación (suma, resta, multiplicación y división) debe estar definida como una función diferente. Luego, crea una función principal que le pregunte al usuario qué operación desea realizar y la ejecute."
      ],
      "metadata": {
        "id": "In5ACisJvGb9"
      }
    },
    {
      "cell_type": "code",
      "execution_count": null,
      "metadata": {
        "colab": {
          "base_uri": "https://localhost:8080/"
        },
        "id": "cAj_V9b1nYuG",
        "outputId": "406239bc-c991-418f-f00d-1c3d6fd3f6bb"
      },
      "outputs": [
        {
          "output_type": "stream",
          "name": "stdout",
          "text": [
            "Operaciones disponibles:\n",
            "1. Suma\n",
            "2. Resta\n",
            "3. Multiplicación\n",
            "4. División\n",
            "Elige una operación (1/2/3/4): 1\n",
            "Ingresa el primer número: 3\n",
            "Ingresa el segundo número: 123\n",
            "Resultado: 126.0\n"
          ]
        }
      ],
      "source": [
        "# Calculadora\n",
        "\n",
        "def sumar(a, b):\n",
        "    return a + b\n",
        "\n",
        "def restar(a, b):\n",
        "    return a - b\n",
        "\n",
        "def multiplicar(a, b):\n",
        "    return a * b\n",
        "\n",
        "def dividir(a, b):\n",
        "    if b == 0:\n",
        "        return \"Error: No se puede dividir por cero\"\n",
        "    return a / b\n",
        "\n",
        "def calculadora():\n",
        "    print(\"Operaciones disponibles:\")\n",
        "    print(\"1. Suma\")\n",
        "    print(\"2. Resta\")\n",
        "    print(\"3. Multiplicación\")\n",
        "    print(\"4. División\")\n",
        "\n",
        "    opcion = input(\"Elige una operación (1/2/3/4): \")\n",
        "\n",
        "    if opcion not in ['1', '2', '3', '4']:\n",
        "        print(\"Opción no válida\")\n",
        "        return\n",
        "\n",
        "    try:\n",
        "        num1 = float(input(\"Ingresa el primer número: \"))\n",
        "        num2 = float(input(\"Ingresa el segundo número: \"))\n",
        "    except ValueError:\n",
        "        print(\"Debes ingresar números válidos.\")\n",
        "        return\n",
        "\n",
        "    if opcion == '1':\n",
        "        resultado = sumar(num1, num2)\n",
        "    elif opcion == '2':\n",
        "        resultado = restar(num1, num2)\n",
        "    elif opcion == '3':\n",
        "        resultado = multiplicar(num1, num2)\n",
        "    elif opcion == '4':\n",
        "        resultado = dividir(num1, num2)\n",
        "\n",
        "    print(f\"Resultado: {resultado}\")\n",
        "\n",
        "# Ejecutar la calculadora\n",
        "calculadora()\n"
      ]
    },
    {
      "cell_type": "markdown",
      "source": [
        "--------------------------------------------------------------------------------\n",
        "Clase M2 AE2 Sentencias básicas del lenguaje python\n",
        "\n",
        "Sentencias básicas en acción\n",
        "Contexto:\n",
        "Ejerce el uso de variables, tipos de datos, operaciones aritméticas y condicionales simples, a través de un caso que simula una situación real cotidiana. Esto refuerza la lógica y comprensión de los conceptos vistos en clase, en un entorno contextualizado.\n",
        "\n",
        "Consigna:\n",
        "Crear un programa en Python que reciba el nombre, edad y país de residencia de una persona. El sistema debe imprimir un mensaje personalizado y, adicionalmente, informar si esa persona puede acceder a un beneficio que solo está disponible para mayores de 18 años que vivan en Argentina, Chile o Colombia."
      ],
      "metadata": {
        "id": "6ixyu5Liwtrp"
      }
    },
    {
      "cell_type": "code",
      "source": [
        "# Evaluación beneficio\n",
        "\n",
        "def verificar_beneficio(nombre, edad, pais):\n",
        "    pais = pais.lower()\n",
        "    paises_validos = [\"argentina\", \"chile\", \"colombia\"]\n",
        "\n",
        "    print(f\"Hola {nombre}, tienes {edad} años y vives en {pais.title()}.\")\n",
        "\n",
        "    if edad >= 18 and pais in paises_validos:\n",
        "        print(\"Puedes acceder al beneficio disponible para mayores de 18 años que vivan en Argentina, Chile o Colombia.\")\n",
        "    else:\n",
        "        print(\"No cumples con los requisitos para acceder al beneficio.\")\n",
        "\n",
        "# Solicitar datos al usuario\n",
        "nombre = input(\"Ingresa tu nombre: \")\n",
        "try:\n",
        "    edad = int(input(\"Ingresa tu edad: \"))\n",
        "except ValueError:\n",
        "    print(\"Edad no válida. Debes ingresar un número entero.\")\n",
        "    edad = 0\n",
        "\n",
        "pais = input(\"Ingresa tu país de residencia: \")\n",
        "\n",
        "# Ejecutar verificación\n",
        "verificar_beneficio(nombre, edad, pais)\n"
      ],
      "metadata": {
        "colab": {
          "base_uri": "https://localhost:8080/"
        },
        "id": "nlZ37LV2yD9H",
        "outputId": "da214584-6c5f-4d3a-f973-be1061c6dcc6"
      },
      "execution_count": null,
      "outputs": [
        {
          "output_type": "stream",
          "name": "stdout",
          "text": [
            "Ingresa tu nombre: Fabian\n",
            "Ingresa tu edad: 33\n",
            "Ingresa tu país de residencia: Chile\n",
            "Hola Fabian, tienes 33 años y vives en Chile.\n",
            "Puedes acceder al beneficio disponible para mayores de 18 años que vivan en Argentina, Chile o Colombia.\n"
          ]
        }
      ]
    },
    {
      "cell_type": "markdown",
      "source": [
        "Contexto:\n",
        "En proyectos reales, separar funcionalidades en módulos hace el código más mantenible y profesional. Esta actividad busca que los estudiantes practiquen cómo crear y reutilizar módulos propios en Python.\n",
        "\n",
        "Consigna:\n",
        "Divide el programa de la actividad anterior en dos archivos: uno que contenga todas las funciones (tu propio módulo) y otro que sea el programa principal desde donde se importa y se ejecuta la lógica del menú."
      ],
      "metadata": {
        "id": "O_uw4JpTySur"
      }
    },
    {
      "cell_type": "code",
      "source": [
        "# Módulo: beneficio.py\n",
        "def verificar_beneficio(nombre, edad, pais):\n",
        "    pais = pais.lower()\n",
        "    paises_validos = [\"argentina\", \"chile\", \"colombia\"]\n",
        "\n",
        "    print(f\"Hola {nombre}, tienes {edad} años y vives en {pais.title()}.\")\n",
        "\n",
        "    if edad >= 18 and pais in paises_validos:\n",
        "        print(\"Puedes acceder al beneficio disponible para mayores de 18 años que vivan en Argentina, Chile o Colombia.\")\n",
        "    else:\n",
        "        print(\"No cumples con los requisitos para acceder al beneficio.\")\n"
      ],
      "metadata": {
        "id": "qnk2oBfuylJl"
      },
      "execution_count": null,
      "outputs": []
    },
    {
      "cell_type": "code",
      "source": [
        "# Programa principal\n",
        "\n",
        "nombre = input(\"Ingresa tu nombre: \")\n",
        "try:\n",
        "    edad = int(input(\"Ingresa tu edad: \"))\n",
        "except ValueError:\n",
        "    print(\"Edad no válida. Debes ingresar un número entero.\")\n",
        "    edad = 0\n",
        "\n",
        "pais = input(\"Ingresa tu país de residencia: \")\n",
        "\n",
        "verificar_beneficio(nombre, edad, pais)\n"
      ],
      "metadata": {
        "colab": {
          "base_uri": "https://localhost:8080/"
        },
        "id": "WpE15aSmzCsD",
        "outputId": "ca847a51-287e-4c79-e16b-ee021025ac74"
      },
      "execution_count": null,
      "outputs": [
        {
          "output_type": "stream",
          "name": "stdout",
          "text": [
            "Ingresa tu nombre: Fabian\n",
            "Ingresa tu edad: 33\n",
            "Ingresa tu país de residencia: Chile\n",
            "Hola Fabian, tienes 33 años y vives en Chile.\n",
            "Puedes acceder al beneficio disponible para mayores de 18 años que vivan en Argentina, Chile o Colombia.\n"
          ]
        }
      ]
    },
    {
      "cell_type": "markdown",
      "source": [
        "--------------------------------------------------------------------------------\n",
        "Clase M2 AE4 Estructuras de dato en python y sentencias iterativas\n",
        "\n",
        "Análisis de calificaciones\n",
        "\n",
        "Contexto:\n",
        "Este ejercicio busca ejercitar el uso de listas y bucles for para recorrer datos, aplicar lógica condicional y calcular estadísticas básicas. Es una situación frecuente en ingeniería de datos: analizar una colección de valores numéricos.\n",
        "\n",
        "Consigna:\n",
        "Escribe un programa que reciba una lista de calificaciones (números entre 0 y 100) y realice lo siguiente:\n",
        "\n",
        "Calcule el promedio general.\n",
        "\n",
        "Cuente cuántos estudiantes aprobaron (nota ≥ 60).\n",
        "\n",
        "Genere una nueva lista solo con las notas aprobadas.\n",
        "\n",
        "Paso a paso:\n",
        "\n",
        "Defina una lista con al menos 8 calificaciones.\n",
        "\n",
        "Use un for para recorrer las calificaciones y calcular el total acumulado.\n",
        "\n",
        "Sume una condición (if) para contar los aprobados y guardar sus notas en otra lista.\n",
        "\n",
        "Calcule el promedio al final y muéstrelo junto con la cantidad de aprobados y su lista."
      ],
      "metadata": {
        "id": "7rNq-qxuzZdA"
      }
    },
    {
      "cell_type": "code",
      "source": [
        "# Lista de calificaciones\n",
        "calificaciones = [75, 60, 45, 90, 82, 55, 38, 100]\n",
        "\n",
        "# Variables de acumulación\n",
        "total = 0\n",
        "aprobados = []\n",
        "cantidad_aprobados = 0\n",
        "\n",
        "# Recorrido de la lista\n",
        "for nota in calificaciones:\n",
        "    total += nota\n",
        "    if nota >= 60:\n",
        "        aprobados.append(nota)\n",
        "        cantidad_aprobados += 1\n",
        "\n",
        "# Cálculo del promedio general\n",
        "promedio_general = total / len(calificaciones)\n",
        "\n",
        "# Resultados\n",
        "print(f\"Promedio general: {promedio_general:.2f}\")\n",
        "print(f\"Cantidad de aprobados: {cantidad_aprobados}\")\n",
        "print(f\"Notas aprobadas: {aprobados}\")\n"
      ],
      "metadata": {
        "colab": {
          "base_uri": "https://localhost:8080/"
        },
        "id": "0nLWmLEaztpK",
        "outputId": "56777076-4e3e-402d-eb2c-89d803bd7000"
      },
      "execution_count": null,
      "outputs": [
        {
          "output_type": "stream",
          "name": "stdout",
          "text": [
            "Promedio general: 68.12\n",
            "Cantidad de aprobados: 5\n",
            "Notas aprobadas: [75, 60, 90, 82, 100]\n"
          ]
        }
      ]
    },
    {
      "cell_type": "markdown",
      "source": [
        "Directorio de empleados\n",
        "\n",
        "Contexto:\n",
        "\n",
        "Este ejercicio trabaja con diccionarios y diccionarios anidados, como representación de un conjunto de datos estructurado. Refuerza el acceso por clave y la iteración sobre items().\n",
        "\n",
        "Consigna:\n",
        "\n",
        "Escribe un programa que recorra un diccionario de empleados con nombre y edad, y:\n",
        "\n",
        "Imprima solo los empleados mayores de 30 años.\n",
        "\n",
        "Genere una lista con los nombres de quienes tienen menos de 30.\n",
        "\n",
        "Indique cuántos empleados hay en total."
      ],
      "metadata": {
        "id": "kvR2MkZhz29x"
      }
    },
    {
      "cell_type": "code",
      "source": [
        "# Diccionario de empleados\n",
        "empleados = {\n",
        "    'emp1': {'nombre': 'Ana', 'edad': 28},\n",
        "    'emp2': {'nombre': 'Luis', 'edad': 35},\n",
        "    'emp3': {'nombre': 'Sofía', 'edad': 22},\n",
        "    'emp4': {'nombre': 'Carlos', 'edad': 31},\n",
        "    'emp5': {'nombre': 'Valeria', 'edad': 27}\n",
        "}\n",
        "\n",
        "# Lista para nombres de empleados menores de 30\n",
        "menores_de_30 = []\n",
        "\n",
        "# Recorrido e impresión\n",
        "print(\"Empleados mayores de 30 años:\")\n",
        "for clave, datos in empleados.items():\n",
        "    nombre = datos['nombre']\n",
        "    edad = datos['edad']\n",
        "\n",
        "    if edad > 30:\n",
        "        print(f\"- {nombre} ({edad} años)\")\n",
        "    elif edad < 30:\n",
        "        menores_de_30.append(nombre)\n",
        "\n",
        "# Resultados\n",
        "print(\"\\nNombres de empleados menores de 30 años:\")\n",
        "print(menores_de_30)\n",
        "\n",
        "print(f\"\\nCantidad total de empleados: {len(empleados)}\")\n"
      ],
      "metadata": {
        "colab": {
          "base_uri": "https://localhost:8080/"
        },
        "id": "KKjcA1uz1Hak",
        "outputId": "712fb3ff-e21b-46f7-b966-d6f929d5787c"
      },
      "execution_count": null,
      "outputs": [
        {
          "output_type": "stream",
          "name": "stdout",
          "text": [
            "Empleados mayores de 30 años:\n",
            "- Luis (35 años)\n",
            "- Carlos (31 años)\n",
            "\n",
            "Nombres de empleados menores de 30 años:\n",
            "['Ana', 'Sofía', 'Valeria']\n",
            "\n",
            "Cantidad total de empleados: 5\n"
          ]
        }
      ]
    },
    {
      "cell_type": "markdown",
      "source": [
        "--------------------------------------------------------------------------------\n",
        "Clase M2 AE5 Orientación a objetos en python\n",
        "\n",
        "Ejercicio - Primeros pasos en POO\n",
        "Consigna:\n",
        "Vuelve a observar con detenimiento la diapositiva en la que aparece el objeto auto. Te animamos a que traduzcas a código toda la información que reúne esa clase.\n",
        "\n",
        "Convierte a código Python esa class Auto(), con los atributos, métodos y estados que menciona en esa diapositiva.\n",
        "\n",
        "Paso a paso:\n",
        "\n",
        "Observar con detenimiento la imagen, identificar todas las partes que componen una clase.\n",
        "\n",
        "Traducirlas a código Python, recordando buenas prácticas.\n",
        "\n",
        "Crear todas las instancias de Auto() que quieras (crear al menos una para asegurarnos de que funciona).\n",
        "\n"
      ],
      "metadata": {
        "id": "PunUu5Qs3VxZ"
      }
    },
    {
      "cell_type": "code",
      "source": [
        "# Definición de la clase Auto\n",
        "class Auto:\n",
        "    def __init__(self, marca, modelo, color):\n",
        "        self.marca = marca\n",
        "        self.modelo = modelo\n",
        "        self.color = color\n",
        "        self.encendido = False\n",
        "        self.velocidad = 0\n",
        "\n",
        "    def encender(self):\n",
        "        if not self.encendido:\n",
        "            self.encendido = True\n",
        "            print(f\"El auto {self.marca} {self.modelo} ha sido encendido.\")\n",
        "        else:\n",
        "            print(\"El auto ya está encendido.\")\n",
        "\n",
        "    def apagar(self):\n",
        "        if self.encendido:\n",
        "            self.encendido = False\n",
        "            self.velocidad = 0\n",
        "            print(f\"El auto {self.marca} {self.modelo} ha sido apagado.\")\n",
        "        else:\n",
        "            print(\"El auto ya está apagado.\")\n",
        "\n",
        "    def acelerar(self, incremento):\n",
        "        if self.encendido:\n",
        "            self.velocidad += incremento\n",
        "            print(f\"El auto aceleró a {self.velocidad} km/h.\")\n",
        "        else:\n",
        "            print(\"Primero debes encender el auto.\")\n",
        "\n",
        "    def frenar(self):\n",
        "        if self.encendido and self.velocidad > 0:\n",
        "            self.velocidad = 0\n",
        "            print(\"El auto se ha detenido.\")\n",
        "        elif not self.encendido:\n",
        "            print(\"El auto está apagado.\")\n",
        "        else:\n",
        "            print(\"El auto ya está detenido.\")\n",
        "\n",
        "# Crear instancia para probar\n",
        "mi_auto = Auto(\"Toyota\", \"Corolla\", \"Rojo\")\n",
        "mi_auto.encender()\n",
        "mi_auto.acelerar(30)\n",
        "mi_auto.frenar()\n",
        "mi_auto.apagar()\n"
      ],
      "metadata": {
        "colab": {
          "base_uri": "https://localhost:8080/"
        },
        "id": "XBYKYvPg3qm7",
        "outputId": "50a62973-c897-4eef-cc7b-7e4d06f44d9e"
      },
      "execution_count": null,
      "outputs": [
        {
          "output_type": "stream",
          "name": "stdout",
          "text": [
            "El auto Toyota Corolla ha sido encendido.\n",
            "El auto aceleró a 30 km/h.\n",
            "El auto se ha detenido.\n",
            "El auto Toyota Corolla ha sido apagado.\n"
          ]
        }
      ]
    },
    {
      "cell_type": "markdown",
      "source": [
        "--------------------------------------------------------------------------------\n",
        "Clase M2 AE6 Excepciones en python\n",
        "\n",
        "Préstamo simple en una biblioteca\n",
        "\n",
        "Contexto:\n",
        "\n",
        "Estás desarrollando una parte básica del sistema de una biblioteca. Queremos permitir que un usuario pueda pedir prestado un libro, siempre que haya stock. En caso de no haber stock disponible, se debe lanzar una excepción clara que el sistema pueda capturar.\n",
        "\n",
        "Consigna:\n",
        "\n",
        "Implementa en Python las siguientes clases y funcionalidades:\n",
        "\n",
        "Clase Libro con atributos título, autor y stock.\n",
        "\n",
        "Clase Biblioteca con un método prestar_libro(titulo) que:\n",
        "\n",
        "Verifique si hay stock del libro.\n",
        "\n",
        "Reduzca el stock si hay ejemplares disponibles.\n",
        "\n",
        "Lance una excepción LibroNoDisponibleError si no hay stock.\n",
        "\n",
        "Captura la excepción e imprime un mensaje que indique el error al usuario."
      ],
      "metadata": {
        "id": "_EzOib1m7oeH"
      }
    },
    {
      "cell_type": "code",
      "source": [
        "# Definir excepción personalizada\n",
        "class LibroNoDisponibleError(Exception):\n",
        "    pass\n",
        "\n",
        "# Clase Libro\n",
        "class Libro:\n",
        "    def __init__(self, titulo, autor, stock):\n",
        "        self.titulo = titulo\n",
        "        self.autor = autor\n",
        "        self.stock = stock\n",
        "\n",
        "# Clase Biblioteca\n",
        "class Biblioteca:\n",
        "    def __init__(self):\n",
        "        self.catalogo = {}\n",
        "\n",
        "    def agregar_libro(self, libro):\n",
        "        self.catalogo[libro.titulo] = libro\n",
        "\n",
        "    def prestar_libro(self, titulo):\n",
        "        if titulo not in self.catalogo:\n",
        "            raise LibroNoDisponibleError(f\"El libro '{titulo}' no está en el catálogo.\")\n",
        "\n",
        "        libro = self.catalogo[titulo]\n",
        "        if libro.stock > 0:\n",
        "            libro.stock -= 1\n",
        "            print(f\"Préstamo exitoso: '{libro.titulo}' de {libro.autor}. Stock restante: {libro.stock}\")\n",
        "        else:\n",
        "            raise LibroNoDisponibleError(f\"No hay stock disponible para el libro '{libro.titulo}'.\")\n",
        "\n",
        "# Crear biblioteca y agregar libros\n",
        "biblioteca = Biblioteca()\n",
        "libro1 = Libro(\"Cien años de soledad\", \"Gabriel García Márquez\", 2)\n",
        "libro2 = Libro(\"El Principito\", \"Antoine de Saint-Exupéry\", 0)\n",
        "\n",
        "biblioteca.agregar_libro(libro1)\n",
        "biblioteca.agregar_libro(libro2)\n",
        "\n",
        "# Pruebas de préstamo\n",
        "try:\n",
        "    biblioteca.prestar_libro(\"Cien años de soledad\")\n",
        "    biblioteca.prestar_libro(\"El Principito\")\n",
        "except LibroNoDisponibleError as e:\n",
        "    print(f\"Error: {e}\")\n"
      ],
      "metadata": {
        "id": "pLRyRTEU8BEk",
        "colab": {
          "base_uri": "https://localhost:8080/"
        },
        "outputId": "638874a3-8bd9-48d7-b593-2cf1e6528ad6"
      },
      "execution_count": null,
      "outputs": [
        {
          "output_type": "stream",
          "name": "stdout",
          "text": [
            "Préstamo exitoso: 'Cien años de soledad' de Gabriel García Márquez. Stock restante: 1\n",
            "Error: No hay stock disponible para el libro 'El Principito'.\n"
          ]
        }
      ]
    }
  ]
}
