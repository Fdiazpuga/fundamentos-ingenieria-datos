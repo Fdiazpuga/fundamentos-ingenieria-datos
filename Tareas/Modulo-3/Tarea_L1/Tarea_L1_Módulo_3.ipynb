{
  "nbformat": 4,
  "nbformat_minor": 0,
  "metadata": {
    "colab": {
      "provenance": []
    },
    "kernelspec": {
      "name": "python3",
      "display_name": "Python 3"
    },
    "language_info": {
      "name": "python"
    }
  },
  "cells": [
    {
      "cell_type": "markdown",
      "source": [
        "# 📊 Tarea – L1 Módulo 3 | Análisis de caso  \n",
        "## La Librería NumPy: Aplicación de NumPy en el Análisis de Datos  \n",
        "\n",
        "**Curso:** Fundamentos de Ingeniería de Datos  \n",
        "**Estudiante:** Fabián Díaz  \n",
        "\n",
        "---\n",
        "\n",
        "## 📍 Situación Inicial\n",
        "\n",
        "Una empresa de análisis financiero está desarrollando una herramienta para el procesamiento de grandes volúmenes de datos sobre el rendimiento de sus activos en la bolsa. Actualmente, su equipo trabaja con datos en formatos dispersos y estructuras poco optimizadas, lo que ralentiza los cálculos y dificulta la obtención de métricas en tiempo real.\n",
        "\n",
        "El equipo ha decidido implementar **NumPy** para optimizar la carga, manipulación y análisis de datos, permitiendo realizar operaciones matemáticas y estadísticas de manera eficiente. Sin embargo, necesitan definir una estrategia clara para estructurar los datos, realizar cálculos rápidos y extraer información clave de forma ágil.\n",
        "\n",
        "🎯 **Tu misión:** analizar esta situación y aplicar los conceptos aprendidos de NumPy para mejorar los procesos de manipulación y análisis de datos.\n",
        "\n",
        "---\n",
        "\n",
        "## 🔎 Descripción del Caso\n",
        "\n",
        "En este caso, asumirás el rol de un **analista de datos** dentro del equipo de desarrollo de la empresa. Tu objetivo será optimizar la manipulación de datos utilizando **NumPy**, mejorando la eficiencia de los cálculos financieros y facilitando la toma de decisiones basada en métricas clave.\n",
        "\n",
        "Trabajarás con **matrices y arreglos en NumPy** para realizar operaciones como:\n",
        "\n",
        "- ✅ Creación y manipulación de arrays multidimensionales.  \n",
        "- ✅ Aplicación de funciones estadísticas y matemáticas sobre los datos.  \n",
        "- ✅ Indexación y selección eficiente de elementos dentro de los arrays.  \n",
        "- ✅ Optimización del rendimiento computacional mediante el uso de **broadcasting** y operaciones vectorizadas.\n",
        "\n",
        "---\n",
        "\n",
        "➡️ A lo largo del análisis, se presentarán soluciones concretas que permitan mejorar el procesamiento de los datos y se justificará por qué **NumPy** es la herramienta adecuada para esta tarea.\n"
      ],
      "metadata": {
        "id": "VZG948dw06pY"
      }
    },
    {
      "cell_type": "markdown",
      "source": [
        "Desarrollo:"
      ],
      "metadata": {
        "id": "SNrygwGW2AgM"
      }
    },
    {
      "cell_type": "markdown",
      "source": [
        "1. Carga y estructuración de datos:\n",
        "\n",
        "  ○ Crea un array NumPy con datos fi nancieros simulados (por ejemplo, precios de acciones en diferentes días).\n",
        "\n",
        "  ○ Organiza los datos en una matriz de 5x5, donde cada fi la representa una acción y cada columna un día de cotización."
      ],
      "metadata": {
        "id": "uuDfGt6L1pfa"
      }
    },
    {
      "cell_type": "code",
      "source": [
        "import numpy as np\n",
        "\n",
        "# Simulación de precios (acciones x días)\n",
        "precios = np.array([\n",
        "    [100, 102, 101, 105, 107],\n",
        "    [98, 97, 99, 100, 102],\n",
        "    [150, 151, 149, 148, 150],\n",
        "    [200, 198, 202, 205, 207],\n",
        "    [50, 51, 49, 50, 52]\n",
        "])\n",
        "\n",
        "# Mostrar la matriz de precios\n",
        "print(\"Matriz de precios simulados (acciones x días):\")\n",
        "print(precios)\n",
        "\n",
        "# Información adicional\n",
        "print(\"\\nForma de la matriz:\", precios.shape)\n",
        "print(\"Tipo de datos:\", precios.dtype)\n"
      ],
      "metadata": {
        "colab": {
          "base_uri": "https://localhost:8080/"
        },
        "id": "zObezV8A1qeK",
        "outputId": "6557b69e-253c-480b-e3f5-e4177421c6d5"
      },
      "execution_count": 5,
      "outputs": [
        {
          "output_type": "stream",
          "name": "stdout",
          "text": [
            "Matriz de precios simulados (acciones x días):\n",
            "[[100 102 101 105 107]\n",
            " [ 98  97  99 100 102]\n",
            " [150 151 149 148 150]\n",
            " [200 198 202 205 207]\n",
            " [ 50  51  49  50  52]]\n",
            "\n",
            "Forma de la matriz: (5, 5)\n",
            "Tipo de datos: int64\n"
          ]
        }
      ]
    },
    {
      "cell_type": "markdown",
      "source": [
        "2. Análisis y transformación de datos:\n",
        "\n",
        "  ○ Obtén el promedio, valor máximo y mínimo de cada acción a lo largo del tiempo.\n",
        "\n",
        "  ○ Calcula la variación porcentual diaria de cada acción.\n",
        "\n",
        "  ○ Aplica funciones matemáticas como logaritmo, exponencial o normalización sobre los datos."
      ],
      "metadata": {
        "id": "ZnqaU2oM2LYC"
      }
    },
    {
      "cell_type": "code",
      "source": [
        "# Promedio, máximo y mínimo por acción (eje horizontal)\n",
        "promedios = precios.mean(axis=1)\n",
        "maximos = precios.max(axis=1)\n",
        "minimos = precios.min(axis=1)\n",
        "\n",
        "print(\"Promedio de cada acción en los 5 días:\")\n",
        "print(promedios)\n",
        "\n",
        "print(\"\\nValor máximo de cada acción:\")\n",
        "print(maximos)\n",
        "\n",
        "print(\"\\nValor mínimo de cada acción:\")\n",
        "print(minimos)\n",
        "\n",
        "# Variación porcentual diaria\n",
        "variacion_pct = (precios[:, 1:] - precios[:, :-1]) / precios[:, :-1] * 100\n",
        "\n",
        "print(\"\\nVariación porcentual diaria de cada acción:\")\n",
        "print(variacion_pct)\n",
        "\n",
        "# Logaritmo natural\n",
        "log_precios = np.log(precios)\n",
        "\n",
        "print(\"\\nLogaritmo natural de los precios:\")\n",
        "print(log_precios)\n",
        "\n",
        "# Normalización de los datos entre 0 y 1\n",
        "precios_normalizados = (precios - precios.min()) / (precios.max() - precios.min())\n",
        "\n",
        "print(\"\\nPrecios normalizados (escala 0 a 1):\")\n",
        "print(precios_normalizados)\n"
      ],
      "metadata": {
        "colab": {
          "base_uri": "https://localhost:8080/"
        },
        "id": "yFk6Yqwv2POa",
        "outputId": "16d99686-d738-41e1-a0af-80c982c98f88"
      },
      "execution_count": 6,
      "outputs": [
        {
          "output_type": "stream",
          "name": "stdout",
          "text": [
            "Promedio de cada acción en los 5 días:\n",
            "[103.   99.2 149.6 202.4  50.4]\n",
            "\n",
            "Valor máximo de cada acción:\n",
            "[107 102 151 207  52]\n",
            "\n",
            "Valor mínimo de cada acción:\n",
            "[100  97 148 198  49]\n",
            "\n",
            "Variación porcentual diaria de cada acción:\n",
            "[[ 2.         -0.98039216  3.96039604  1.9047619 ]\n",
            " [-1.02040816  2.06185567  1.01010101  2.        ]\n",
            " [ 0.66666667 -1.32450331 -0.67114094  1.35135135]\n",
            " [-1.          2.02020202  1.48514851  0.97560976]\n",
            " [ 2.         -3.92156863  2.04081633  4.        ]]\n",
            "\n",
            "Logaritmo natural de los precios:\n",
            "[[4.60517019 4.62497281 4.61512052 4.65396035 4.67282883]\n",
            " [4.58496748 4.57471098 4.59511985 4.60517019 4.62497281]\n",
            " [5.01063529 5.01727984 5.00394631 4.99721227 5.01063529]\n",
            " [5.29831737 5.28826703 5.3082677  5.32300998 5.33271879]\n",
            " [3.91202301 3.93182563 3.8918203  3.91202301 3.95124372]]\n",
            "\n",
            "Precios normalizados (escala 0 a 1):\n",
            "[[0.32278481 0.33544304 0.32911392 0.35443038 0.36708861]\n",
            " [0.31012658 0.30379747 0.3164557  0.32278481 0.33544304]\n",
            " [0.63924051 0.64556962 0.63291139 0.62658228 0.63924051]\n",
            " [0.9556962  0.94303797 0.96835443 0.98734177 1.        ]\n",
            " [0.00632911 0.01265823 0.         0.00632911 0.01898734]]\n"
          ]
        }
      ]
    },
    {
      "cell_type": "markdown",
      "source": [
        "3. Optimización y selección de datos:\n",
        "\n",
        "    ○ Utiliza indexación avanzada para extraer información específica, como el rendimiento de una acción en un día determinado.\n",
        "\n",
        "    ○ Aplica broadcasting para realizar operaciones sin necesidad de bucles."
      ],
      "metadata": {
        "id": "fI6kfeg33rH-"
      }
    },
    {
      "cell_type": "code",
      "source": [
        "# los índices parten desde 0\n",
        "precio_dia4_accion3 = precios[2, 3]\n",
        "print(\"Precio de la acción 3 en el día 4:\", precio_dia4_accion3)\n",
        "\n",
        "# Broadcasting: restar el valor del primer día a todos los días para cada acción\n",
        "# Esto permite observar la variación absoluta diaria con respecto al primer día\n",
        "diferencia_respecto_dia1 = precios - precios[:, [0]]\n",
        "print(\"\\nDiferencia de precios respecto al primer día para cada acción:\")\n",
        "print(diferencia_respecto_dia1)\n"
      ],
      "metadata": {
        "colab": {
          "base_uri": "https://localhost:8080/"
        },
        "id": "eX5oZLul3yvc",
        "outputId": "10d2e300-21f0-4f16-dfb2-152a864ec792"
      },
      "execution_count": 7,
      "outputs": [
        {
          "output_type": "stream",
          "name": "stdout",
          "text": [
            "Precio de la acción 3 en el día 4: 148\n",
            "\n",
            "Diferencia de precios respecto al primer día para cada acción:\n",
            "[[ 0  2  1  5  7]\n",
            " [ 0 -1  1  2  4]\n",
            " [ 0  1 -1 -2  0]\n",
            " [ 0 -2  2  5  7]\n",
            " [ 0  1 -1  0  2]]\n"
          ]
        }
      ]
    },
    {
      "cell_type": "markdown",
      "source": [
        "4. Comparación con otros métodos:\n",
        "\n",
        "    ○ Analiza cómo se podrían realizar estas tareas sin NumPy y compara la eficiencia en términos de código y rendimiento computacional."
      ],
      "metadata": {
        "id": "cSM_Ikwm4LOL"
      }
    },
    {
      "cell_type": "markdown",
      "source": [
        "## Conclusión\n",
        "\n",
        "El uso de la librería NumPy permitió optimizar el análisis y manipulación de datos financieros, facilitando la aplicación de funciones estadísticas, operaciones vectorizadas y selección eficiente de datos.\n",
        "\n",
        "Frente a métodos tradicionales, NumPy ofrece ventajas clave:\n",
        "\n",
        "- Mayor rendimiento computacional.\n",
        "- Reducción del uso de bucles.\n",
        "- Operaciones más claras y compactas.\n",
        "- Escalabilidad para grandes volúmenes de datos.\n",
        "\n",
        "Gracias a estas características, NumPy se posiciona como una herramienta fundamental en el análisis de datos en entornos profesionales.\n"
      ],
      "metadata": {
        "id": "44ksMJzL4pNX"
      }
    }
  ]
}
