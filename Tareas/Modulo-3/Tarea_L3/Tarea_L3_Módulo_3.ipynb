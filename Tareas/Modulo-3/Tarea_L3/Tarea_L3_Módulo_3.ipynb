{
  "nbformat": 4,
  "nbformat_minor": 0,
  "metadata": {
    "colab": {
      "provenance": []
    },
    "kernelspec": {
      "name": "python3",
      "display_name": "Python 3"
    },
    "language_info": {
      "name": "python"
    }
  },
  "cells": [
    {
      "cell_type": "code",
      "execution_count": null,
      "metadata": {
        "id": "EgCZv0yvs7Lb"
      },
      "outputs": [],
      "source": [
        "# 🎬 L3 — Obtención de Datos desde Archivos con Pandas\n",
        "\n",
        "## 📍 Situación inicial\n",
        "Una empresa de consultoría analiza grandes volúmenes de datos provenientes de **CSV**, **Excel** y **tablas web**.\n",
        "Actualmente, el proceso es **manual**, lento y propenso a errores debido a formatos inconsistentes y datos incompletos.\n",
        "\n",
        "El equipo ha decidido implementar **Pandas** para automatizar la carga, limpieza, transformación y exportación de datos, con el fin de garantizar calidad y consistencia.\n",
        "\n",
        "---\n",
        "\n",
        "## 🎯 Objetivo\n",
        "Diseñar un flujo de trabajo eficiente que:\n",
        "- Importe datos desde **múltiples fuentes**.\n",
        "- Limpie y estandarice la información.\n",
        "- Genere nuevas métricas relevantes.\n",
        "- Exporte resultados listos para análisis posterior.\n",
        "\n",
        "---\n",
        "\n",
        "## 📂 Fuentes de datos\n",
        "1. **CSV** → Dataset de películas con presupuesto, recaudación, género y ratings.\n",
        "2. **Excel** → Lista simulada de películas ganadoras del Óscar.\n",
        "3. **Tabla Web** → Películas con mayores recaudaciones (Wikipedia 2025).\n",
        "\n",
        "---\n",
        "\n",
        "## 🛠️ Tareas a realizar\n",
        "1. **Carga de datos**\n",
        "   - CSV → `read_csv()`\n",
        "   - Excel → `read_excel()`\n",
        "   - Web → `read_html()`\n",
        "2. **Limpieza**\n",
        "   - Manejo de valores nulos (imputar o eliminar).\n",
        "   - Eliminación de duplicados.\n",
        "   - Conversión de tipos de datos.\n",
        "3. **Transformación**\n",
        "   - Selección y renombrado de columnas.\n",
        "   - Creación de métricas: ROI y Profit.\n",
        "   - Ordenar por recaudación mundial.\n",
        "4. **Integración**\n",
        "   - Cruce con la lista de ganadoras del Óscar.\n",
        "5. **Exportación**\n",
        "   - CSV sin índice.\n",
        "   - Excel con formato limpio.\n",
        "6. **Comparación antes/después**\n",
        "   - Mostrar cambios tras la limpieza.\n",
        "\n",
        "---\n",
        "\n",
        "## 📦 Entregables\n",
        "- **Notebook en Python** con todo el código.\n",
        "- **Informe técnico** con explicación de cada paso.\n",
        "- **Ejemplos antes/después** de la limpieza.\n",
        "- **Conclusiones** sobre la importancia de un proceso estructurado.\n"
      ]
    },
    {
      "cell_type": "markdown",
      "source": [
        "Para la tarea se usará un dataset de listado de películas, y generamos un archivo excel a continuación para cumplir con la tarea y como tabla se utilizará la siguiente https://es.wikipedia.org/wiki/Anexo:Pel%C3%ADculas_con_mayores_recaudaciones_(2025)."
      ],
      "metadata": {
        "id": "sBTHov4V4AJQ"
      }
    },
    {
      "cell_type": "code",
      "source": [
        "# genera data/oscar_winners.xlsx\n",
        "from pathlib import Path\n",
        "import pandas as pd\n",
        "\n",
        "out_dir = Path(\"data\")\n",
        "out_dir.mkdir(parents=True, exist_ok=True)\n",
        "\n",
        "df_oscar = pd.DataFrame({\n",
        "    \"Title\": [\n",
        "        \"Oppenheimer\",\"Everything Everywhere All at Once\",\"Nomadland\",\"Parasite\",\"Green Book\",\n",
        "        \"The Shape of Water\",\"Moonlight\",\"Spotlight\",\"Birdman\",\"12 Years a Slave\"\n",
        "    ],\n",
        "    \"Year\": [2023, 2022, 2021, 2020, 2019, 2018, 2017, 2016, 2015, 2014],\n",
        "    \"Category\": [\"Best Picture\"]*10\n",
        "})\n",
        "\n",
        "excel_path = out_dir / \"oscar_winners.xlsx\"\n",
        "df_oscar.to_excel(excel_path, index=False)\n",
        "print(\"Excel generado en:\", excel_path.resolve())\n",
        "df_oscar.head()\n"
      ],
      "metadata": {
        "colab": {
          "base_uri": "https://localhost:8080/",
          "height": 225
        },
        "id": "fyrQdBLIuTgH",
        "outputId": "490a9ffd-476d-48b1-9904-5e5c176c8ed0"
      },
      "execution_count": 4,
      "outputs": [
        {
          "output_type": "stream",
          "name": "stdout",
          "text": [
            "Excel generado en: /content/data/oscar_winners.xlsx\n"
          ]
        },
        {
          "output_type": "execute_result",
          "data": {
            "text/plain": [
              "                               Title  Year      Category\n",
              "0                        Oppenheimer  2023  Best Picture\n",
              "1  Everything Everywhere All at Once  2022  Best Picture\n",
              "2                          Nomadland  2021  Best Picture\n",
              "3                           Parasite  2020  Best Picture\n",
              "4                         Green Book  2019  Best Picture"
            ],
            "text/html": [
              "\n",
              "  <div id=\"df-40080a1c-1c61-40d0-b6c5-d9e379c8618a\" class=\"colab-df-container\">\n",
              "    <div>\n",
              "<style scoped>\n",
              "    .dataframe tbody tr th:only-of-type {\n",
              "        vertical-align: middle;\n",
              "    }\n",
              "\n",
              "    .dataframe tbody tr th {\n",
              "        vertical-align: top;\n",
              "    }\n",
              "\n",
              "    .dataframe thead th {\n",
              "        text-align: right;\n",
              "    }\n",
              "</style>\n",
              "<table border=\"1\" class=\"dataframe\">\n",
              "  <thead>\n",
              "    <tr style=\"text-align: right;\">\n",
              "      <th></th>\n",
              "      <th>Title</th>\n",
              "      <th>Year</th>\n",
              "      <th>Category</th>\n",
              "    </tr>\n",
              "  </thead>\n",
              "  <tbody>\n",
              "    <tr>\n",
              "      <th>0</th>\n",
              "      <td>Oppenheimer</td>\n",
              "      <td>2023</td>\n",
              "      <td>Best Picture</td>\n",
              "    </tr>\n",
              "    <tr>\n",
              "      <th>1</th>\n",
              "      <td>Everything Everywhere All at Once</td>\n",
              "      <td>2022</td>\n",
              "      <td>Best Picture</td>\n",
              "    </tr>\n",
              "    <tr>\n",
              "      <th>2</th>\n",
              "      <td>Nomadland</td>\n",
              "      <td>2021</td>\n",
              "      <td>Best Picture</td>\n",
              "    </tr>\n",
              "    <tr>\n",
              "      <th>3</th>\n",
              "      <td>Parasite</td>\n",
              "      <td>2020</td>\n",
              "      <td>Best Picture</td>\n",
              "    </tr>\n",
              "    <tr>\n",
              "      <th>4</th>\n",
              "      <td>Green Book</td>\n",
              "      <td>2019</td>\n",
              "      <td>Best Picture</td>\n",
              "    </tr>\n",
              "  </tbody>\n",
              "</table>\n",
              "</div>\n",
              "    <div class=\"colab-df-buttons\">\n",
              "\n",
              "  <div class=\"colab-df-container\">\n",
              "    <button class=\"colab-df-convert\" onclick=\"convertToInteractive('df-40080a1c-1c61-40d0-b6c5-d9e379c8618a')\"\n",
              "            title=\"Convert this dataframe to an interactive table.\"\n",
              "            style=\"display:none;\">\n",
              "\n",
              "  <svg xmlns=\"http://www.w3.org/2000/svg\" height=\"24px\" viewBox=\"0 -960 960 960\">\n",
              "    <path d=\"M120-120v-720h720v720H120Zm60-500h600v-160H180v160Zm220 220h160v-160H400v160Zm0 220h160v-160H400v160ZM180-400h160v-160H180v160Zm440 0h160v-160H620v160ZM180-180h160v-160H180v160Zm440 0h160v-160H620v160Z\"/>\n",
              "  </svg>\n",
              "    </button>\n",
              "\n",
              "  <style>\n",
              "    .colab-df-container {\n",
              "      display:flex;\n",
              "      gap: 12px;\n",
              "    }\n",
              "\n",
              "    .colab-df-convert {\n",
              "      background-color: #E8F0FE;\n",
              "      border: none;\n",
              "      border-radius: 50%;\n",
              "      cursor: pointer;\n",
              "      display: none;\n",
              "      fill: #1967D2;\n",
              "      height: 32px;\n",
              "      padding: 0 0 0 0;\n",
              "      width: 32px;\n",
              "    }\n",
              "\n",
              "    .colab-df-convert:hover {\n",
              "      background-color: #E2EBFA;\n",
              "      box-shadow: 0px 1px 2px rgba(60, 64, 67, 0.3), 0px 1px 3px 1px rgba(60, 64, 67, 0.15);\n",
              "      fill: #174EA6;\n",
              "    }\n",
              "\n",
              "    .colab-df-buttons div {\n",
              "      margin-bottom: 4px;\n",
              "    }\n",
              "\n",
              "    [theme=dark] .colab-df-convert {\n",
              "      background-color: #3B4455;\n",
              "      fill: #D2E3FC;\n",
              "    }\n",
              "\n",
              "    [theme=dark] .colab-df-convert:hover {\n",
              "      background-color: #434B5C;\n",
              "      box-shadow: 0px 1px 3px 1px rgba(0, 0, 0, 0.15);\n",
              "      filter: drop-shadow(0px 1px 2px rgba(0, 0, 0, 0.3));\n",
              "      fill: #FFFFFF;\n",
              "    }\n",
              "  </style>\n",
              "\n",
              "    <script>\n",
              "      const buttonEl =\n",
              "        document.querySelector('#df-40080a1c-1c61-40d0-b6c5-d9e379c8618a button.colab-df-convert');\n",
              "      buttonEl.style.display =\n",
              "        google.colab.kernel.accessAllowed ? 'block' : 'none';\n",
              "\n",
              "      async function convertToInteractive(key) {\n",
              "        const element = document.querySelector('#df-40080a1c-1c61-40d0-b6c5-d9e379c8618a');\n",
              "        const dataTable =\n",
              "          await google.colab.kernel.invokeFunction('convertToInteractive',\n",
              "                                                    [key], {});\n",
              "        if (!dataTable) return;\n",
              "\n",
              "        const docLinkHtml = 'Like what you see? Visit the ' +\n",
              "          '<a target=\"_blank\" href=https://colab.research.google.com/notebooks/data_table.ipynb>data table notebook</a>'\n",
              "          + ' to learn more about interactive tables.';\n",
              "        element.innerHTML = '';\n",
              "        dataTable['output_type'] = 'display_data';\n",
              "        await google.colab.output.renderOutput(dataTable, element);\n",
              "        const docLink = document.createElement('div');\n",
              "        docLink.innerHTML = docLinkHtml;\n",
              "        element.appendChild(docLink);\n",
              "      }\n",
              "    </script>\n",
              "  </div>\n",
              "\n",
              "\n",
              "    <div id=\"df-cee5dc87-91ef-4817-9fb7-457a8d14c628\">\n",
              "      <button class=\"colab-df-quickchart\" onclick=\"quickchart('df-cee5dc87-91ef-4817-9fb7-457a8d14c628')\"\n",
              "                title=\"Suggest charts\"\n",
              "                style=\"display:none;\">\n",
              "\n",
              "<svg xmlns=\"http://www.w3.org/2000/svg\" height=\"24px\"viewBox=\"0 0 24 24\"\n",
              "     width=\"24px\">\n",
              "    <g>\n",
              "        <path d=\"M19 3H5c-1.1 0-2 .9-2 2v14c0 1.1.9 2 2 2h14c1.1 0 2-.9 2-2V5c0-1.1-.9-2-2-2zM9 17H7v-7h2v7zm4 0h-2V7h2v10zm4 0h-2v-4h2v4z\"/>\n",
              "    </g>\n",
              "</svg>\n",
              "      </button>\n",
              "\n",
              "<style>\n",
              "  .colab-df-quickchart {\n",
              "      --bg-color: #E8F0FE;\n",
              "      --fill-color: #1967D2;\n",
              "      --hover-bg-color: #E2EBFA;\n",
              "      --hover-fill-color: #174EA6;\n",
              "      --disabled-fill-color: #AAA;\n",
              "      --disabled-bg-color: #DDD;\n",
              "  }\n",
              "\n",
              "  [theme=dark] .colab-df-quickchart {\n",
              "      --bg-color: #3B4455;\n",
              "      --fill-color: #D2E3FC;\n",
              "      --hover-bg-color: #434B5C;\n",
              "      --hover-fill-color: #FFFFFF;\n",
              "      --disabled-bg-color: #3B4455;\n",
              "      --disabled-fill-color: #666;\n",
              "  }\n",
              "\n",
              "  .colab-df-quickchart {\n",
              "    background-color: var(--bg-color);\n",
              "    border: none;\n",
              "    border-radius: 50%;\n",
              "    cursor: pointer;\n",
              "    display: none;\n",
              "    fill: var(--fill-color);\n",
              "    height: 32px;\n",
              "    padding: 0;\n",
              "    width: 32px;\n",
              "  }\n",
              "\n",
              "  .colab-df-quickchart:hover {\n",
              "    background-color: var(--hover-bg-color);\n",
              "    box-shadow: 0 1px 2px rgba(60, 64, 67, 0.3), 0 1px 3px 1px rgba(60, 64, 67, 0.15);\n",
              "    fill: var(--button-hover-fill-color);\n",
              "  }\n",
              "\n",
              "  .colab-df-quickchart-complete:disabled,\n",
              "  .colab-df-quickchart-complete:disabled:hover {\n",
              "    background-color: var(--disabled-bg-color);\n",
              "    fill: var(--disabled-fill-color);\n",
              "    box-shadow: none;\n",
              "  }\n",
              "\n",
              "  .colab-df-spinner {\n",
              "    border: 2px solid var(--fill-color);\n",
              "    border-color: transparent;\n",
              "    border-bottom-color: var(--fill-color);\n",
              "    animation:\n",
              "      spin 1s steps(1) infinite;\n",
              "  }\n",
              "\n",
              "  @keyframes spin {\n",
              "    0% {\n",
              "      border-color: transparent;\n",
              "      border-bottom-color: var(--fill-color);\n",
              "      border-left-color: var(--fill-color);\n",
              "    }\n",
              "    20% {\n",
              "      border-color: transparent;\n",
              "      border-left-color: var(--fill-color);\n",
              "      border-top-color: var(--fill-color);\n",
              "    }\n",
              "    30% {\n",
              "      border-color: transparent;\n",
              "      border-left-color: var(--fill-color);\n",
              "      border-top-color: var(--fill-color);\n",
              "      border-right-color: var(--fill-color);\n",
              "    }\n",
              "    40% {\n",
              "      border-color: transparent;\n",
              "      border-right-color: var(--fill-color);\n",
              "      border-top-color: var(--fill-color);\n",
              "    }\n",
              "    60% {\n",
              "      border-color: transparent;\n",
              "      border-right-color: var(--fill-color);\n",
              "    }\n",
              "    80% {\n",
              "      border-color: transparent;\n",
              "      border-right-color: var(--fill-color);\n",
              "      border-bottom-color: var(--fill-color);\n",
              "    }\n",
              "    90% {\n",
              "      border-color: transparent;\n",
              "      border-bottom-color: var(--fill-color);\n",
              "    }\n",
              "  }\n",
              "</style>\n",
              "\n",
              "      <script>\n",
              "        async function quickchart(key) {\n",
              "          const quickchartButtonEl =\n",
              "            document.querySelector('#' + key + ' button');\n",
              "          quickchartButtonEl.disabled = true;  // To prevent multiple clicks.\n",
              "          quickchartButtonEl.classList.add('colab-df-spinner');\n",
              "          try {\n",
              "            const charts = await google.colab.kernel.invokeFunction(\n",
              "                'suggestCharts', [key], {});\n",
              "          } catch (error) {\n",
              "            console.error('Error during call to suggestCharts:', error);\n",
              "          }\n",
              "          quickchartButtonEl.classList.remove('colab-df-spinner');\n",
              "          quickchartButtonEl.classList.add('colab-df-quickchart-complete');\n",
              "        }\n",
              "        (() => {\n",
              "          let quickchartButtonEl =\n",
              "            document.querySelector('#df-cee5dc87-91ef-4817-9fb7-457a8d14c628 button');\n",
              "          quickchartButtonEl.style.display =\n",
              "            google.colab.kernel.accessAllowed ? 'block' : 'none';\n",
              "        })();\n",
              "      </script>\n",
              "    </div>\n",
              "\n",
              "    </div>\n",
              "  </div>\n"
            ],
            "application/vnd.google.colaboratory.intrinsic+json": {
              "type": "dataframe",
              "variable_name": "df_oscar",
              "summary": "{\n  \"name\": \"df_oscar\",\n  \"rows\": 10,\n  \"fields\": [\n    {\n      \"column\": \"Title\",\n      \"properties\": {\n        \"dtype\": \"string\",\n        \"num_unique_values\": 10,\n        \"samples\": [\n          \"Birdman\",\n          \"Everything Everywhere All at Once\",\n          \"The Shape of Water\"\n        ],\n        \"semantic_type\": \"\",\n        \"description\": \"\"\n      }\n    },\n    {\n      \"column\": \"Year\",\n      \"properties\": {\n        \"dtype\": \"number\",\n        \"std\": 3,\n        \"min\": 2014,\n        \"max\": 2023,\n        \"num_unique_values\": 10,\n        \"samples\": [\n          2015,\n          2022,\n          2018\n        ],\n        \"semantic_type\": \"\",\n        \"description\": \"\"\n      }\n    },\n    {\n      \"column\": \"Category\",\n      \"properties\": {\n        \"dtype\": \"category\",\n        \"num_unique_values\": 1,\n        \"samples\": [\n          \"Best Picture\"\n        ],\n        \"semantic_type\": \"\",\n        \"description\": \"\"\n      }\n    }\n  ]\n}"
            }
          },
          "metadata": {},
          "execution_count": 4
        }
      ]
    },
    {
      "cell_type": "markdown",
      "source": [
        "1) Carga de datos desde distintos archivos"
      ],
      "metadata": {
        "id": "6itA8sps4Ozx"
      }
    },
    {
      "cell_type": "code",
      "source": [
        "import pandas as pd\n",
        "import numpy as np\n",
        "from pathlib import Path\n",
        "\n",
        "pd.set_option('display.max_columns', 60)\n",
        "pd.set_option('display.width', 140)\n",
        "\n",
        "print(\"== 1) Carga de datos ==\")\n",
        "\n",
        "# 1.1 CSV: IMDB 1000\n",
        "url_csv = \"https://raw.githubusercontent.com/justmarkham/pandas-videos/master/data/imdb_1000.csv\"\n",
        "df_csv = pd.read_csv(url_csv)\n",
        "print(\"\\n[1.1] CSV IMDB cargado. Shape:\", df_csv.shape)\n",
        "print(df_csv.head(3))\n",
        "\n",
        "# 1.2 Excel (generado por el script anterior)\n",
        "excel_path = Path(\"data/oscar_winners.xlsx\")\n",
        "if not excel_path.exists():\n",
        "    raise FileNotFoundError(\"Falta data/oscar_winners.xlsx. Ejecuta la celda del script A).\")\n",
        "df_excel = pd.read_excel(excel_path)\n",
        "print(\"\\n[1.2] Excel cargado. Shape:\", df_excel.shape)\n",
        "print(df_excel.head())\n",
        "\n",
        "# 1.3 Tabla web\n",
        "import pandas as pd\n",
        "\n",
        "url_web = \"https://es.wikipedia.org/wiki/Anexo:Cine_en_2025\"\n",
        "# Busca la tabla \"Películas más taquilleras de 2025\"\n",
        "df_web = pd.read_html(url_web, match=\"Películas más taquilleras\")[0]\n",
        "\n",
        "print(\"[1.3] Tabla web cargada. Shape:\", df_web.shape)\n",
        "print(df_web.head(10))\n",
        "\n"
      ],
      "metadata": {
        "colab": {
          "base_uri": "https://localhost:8080/"
        },
        "id": "Z-CrpHrB4OEk",
        "outputId": "49d33092-4e22-48e2-a66b-d0d003b42acc"
      },
      "execution_count": 11,
      "outputs": [
        {
          "output_type": "stream",
          "name": "stdout",
          "text": [
            "== 1) Carga de datos ==\n",
            "\n",
            "[1.1] CSV IMDB cargado. Shape: (979, 6)\n",
            "   star_rating                     title content_rating  genre  duration                                        actors_list\n",
            "0          9.3  The Shawshank Redemption              R  Crime       142  [u'Tim Robbins', u'Morgan Freeman', u'Bob Gunt...\n",
            "1          9.2             The Godfather              R  Crime       175    [u'Marlon Brando', u'Al Pacino', u'James Caan']\n",
            "2          9.1    The Godfather: Part II              R  Crime       200  [u'Al Pacino', u'Robert De Niro', u'Robert Duv...\n",
            "\n",
            "[1.2] Excel cargado. Shape: (10, 3)\n",
            "                               Title  Year      Category\n",
            "0                        Oppenheimer  2023  Best Picture\n",
            "1  Everything Everywhere All at Once  2022  Best Picture\n",
            "2                          Nomadland  2021  Best Picture\n",
            "3                           Parasite  2020  Best Picture\n",
            "4                         Green Book  2019  Best Picture\n",
            "[1.3] Tabla web cargada. Shape: (10, 4)\n",
            "   N.º                                    Título             Distribuidora Recaudación mundial\n",
            "0    1                                  Ne Zha 2  Beijing Enlight Pictures      $2,217,080,000\n",
            "1    2                           Lilo & Stitch †                    Disney      $1,028,328,424\n",
            "2    3                 Una película de Minecraft              Warner Bros.        $955,149,195\n",
            "3    4                 Jurassic World: Rebirth †                 Universal        $800,368,830\n",
            "4    5               Cómo entrenar a tu dragón †                 Universal        $623,587,255\n",
            "5    6       Misión imposible: Sentencia final †                 Paramount        $595,555,354\n",
            "6    7                                Superman †              Warner Bros.        $579,194,652\n",
            "7    8                                      F1 †      Warner Bros. / Apple        $571,161,000\n",
            "8    9                  Detective Chinatown 1900            Wanda Pictures   $503,214,752[13]​\n",
            "9   10  Los Cuatro Fantásticos: primeros pasos †                    Disney        $435,341,493\n"
          ]
        }
      ]
    },
    {
      "cell_type": "markdown",
      "source": [
        "2) Limpieza y estructuración de datos (sobre datos de IMDB)"
      ],
      "metadata": {
        "id": "YEPMdMEqSgQr"
      }
    },
    {
      "cell_type": "code",
      "source": [
        "print(\"== 2) Limpieza y estructuración (IMDB) ==\")\n",
        "\n",
        "# Copia para comparar antes/después\n",
        "df_before = df_csv.copy()\n",
        "\n",
        "# 2.1 Nulos: imputar numéricos y completar categóricas\n",
        "print(\"[2.1] Nulos antes:\\n\", df_csv.isna().sum())\n",
        "\n",
        "df_csv[\"duration\"]    = pd.to_numeric(df_csv[\"duration\"], errors=\"coerce\")\n",
        "df_csv[\"star_rating\"] = pd.to_numeric(df_csv[\"star_rating\"], errors=\"coerce\")\n",
        "\n",
        "df_csv[\"duration\"]    = df_csv[\"duration\"].fillna(df_csv[\"duration\"].median())\n",
        "df_csv[\"star_rating\"] = df_csv[\"star_rating\"].fillna(df_csv[\"star_rating\"].median())\n",
        "df_csv[\"content_rating\"] = df_csv[\"content_rating\"].fillna(\"Not Rated\")\n",
        "df_csv[\"genre\"]          = df_csv[\"genre\"].fillna(\"Unknown\")\n",
        "df_csv = df_csv.dropna(subset=[\"title\"])\n",
        "\n",
        "print(\"[2.1] Nulos después:\\n\", df_csv.isna().sum())\n",
        "\n",
        "# 2.2 Duplicados por título\n",
        "antes = len(df_csv)\n",
        "df_csv = df_csv.drop_duplicates(subset=[\"title\"], keep=\"first\")\n",
        "print(\"[2.2] Duplicados eliminados:\", antes - len(df_csv))\n",
        "\n",
        "# 2.3 Tipos de datos\n",
        "print(\"[2.3] Tipos (muestra):\\n\", df_csv.dtypes.head(10))\n"
      ],
      "metadata": {
        "colab": {
          "base_uri": "https://localhost:8080/"
        },
        "id": "rlchz8xUSiy8",
        "outputId": "3dabcdfe-c91d-42ec-b957-a5acab15a62f"
      },
      "execution_count": 12,
      "outputs": [
        {
          "output_type": "stream",
          "name": "stdout",
          "text": [
            "== 2) Limpieza y estructuración (IMDB) ==\n",
            "[2.1] Nulos antes:\n",
            " star_rating       0\n",
            "title             0\n",
            "content_rating    3\n",
            "genre             0\n",
            "duration          0\n",
            "actors_list       0\n",
            "dtype: int64\n",
            "[2.1] Nulos después:\n",
            " star_rating       0\n",
            "title             0\n",
            "content_rating    0\n",
            "genre             0\n",
            "duration          0\n",
            "actors_list       0\n",
            "dtype: int64\n",
            "[2.2] Duplicados eliminados: 4\n",
            "[2.3] Tipos (muestra):\n",
            " star_rating       float64\n",
            "title              object\n",
            "content_rating     object\n",
            "genre              object\n",
            "duration            int64\n",
            "actors_list        object\n",
            "dtype: object\n"
          ]
        }
      ]
    },
    {
      "cell_type": "markdown",
      "source": [
        "3) Transformación y optimización de datos"
      ],
      "metadata": {
        "id": "vaex-GrrS7-7"
      }
    },
    {
      "cell_type": "code",
      "source": [
        "print(\"== 3) Transformación y optimización ==\")\n",
        "\n",
        "# 3.1 Selección de columnas relevantes\n",
        "df_tr = df_csv[[\"title\",\"genre\",\"content_rating\",\"duration\",\"star_rating\"]].copy()\n",
        "\n",
        "# 3.2 Renombrar para traducir al español\n",
        "df_tr = df_tr.rename(columns={\n",
        "    \"title\": \"titulo\",\n",
        "    \"genre\": \"genero\",\n",
        "    \"content_rating\": \"clasificacion\",\n",
        "    \"duration\": \"duracion_min\",\n",
        "    \"star_rating\": \"rating_imdb\"\n",
        "})\n",
        "\n",
        "# 3.3 Ordenar por columna clave rating_imdb orden descendente\n",
        "df_tr = df_tr.sort_values(by=\"rating_imdb\", ascending=False).reset_index(drop=True)\n",
        "\n",
        "print(df_tr.head(5))\n"
      ],
      "metadata": {
        "colab": {
          "base_uri": "https://localhost:8080/"
        },
        "id": "d5xshAtuS8n7",
        "outputId": "09a587f0-43c1-4b64-8331-6c8be72c6448"
      },
      "execution_count": 13,
      "outputs": [
        {
          "output_type": "stream",
          "name": "stdout",
          "text": [
            "== 3) Transformación y optimización ==\n",
            "                     titulo  genero clasificacion  duracion_min  rating_imdb\n",
            "0  The Shawshank Redemption   Crime             R           142          9.3\n",
            "1             The Godfather   Crime             R           175          9.2\n",
            "2    The Godfather: Part II   Crime             R           200          9.1\n",
            "3           The Dark Knight  Action         PG-13           152          9.0\n",
            "4              Pulp Fiction   Crime             R           154          8.9\n"
          ]
        }
      ]
    },
    {
      "cell_type": "markdown",
      "source": [
        "4) Exportación de datos"
      ],
      "metadata": {
        "id": "MA9GFyOlTdpr"
      }
    },
    {
      "cell_type": "code",
      "source": [
        "print(\"== 4) Exportación de datos ==\")\n",
        "df_tr.to_csv(\"peliculas_imdb_limpio.csv\", index=False)\n",
        "df_tr.to_excel(\"peliculas_imdb_limpio.xlsx\", index=False)\n",
        "print(\"Listo: peliculas_imdb_limpio.csv y peliculas_imdb_limpio.xlsx\")\n"
      ],
      "metadata": {
        "colab": {
          "base_uri": "https://localhost:8080/"
        },
        "id": "YD0pSH7_TeT2",
        "outputId": "ffe9aa88-ad01-4c41-9cb1-421293aaddcf"
      },
      "execution_count": 14,
      "outputs": [
        {
          "output_type": "stream",
          "name": "stdout",
          "text": [
            "== 4) Exportación de datos ==\n",
            "Listo: peliculas_imdb_limpio.csv y peliculas_imdb_limpio.xlsx\n"
          ]
        }
      ]
    },
    {
      "cell_type": "markdown",
      "source": [
        "Ejemplo de los datos antes y después de la limpieza."
      ],
      "metadata": {
        "id": "ypwq-BqNTo7Y"
      }
    },
    {
      "cell_type": "code",
      "source": [
        "print(\"ANTES (5 ejemplos):\")\n",
        "print(df_before.sample(5, random_state=1))\n",
        "\n",
        "print(\"\\nDESPUÉS (5 ejemplos):\")\n",
        "print(df_tr.sample(5, random_state=1))\n"
      ],
      "metadata": {
        "colab": {
          "base_uri": "https://localhost:8080/"
        },
        "id": "N0sp2o_oTpqZ",
        "outputId": "475e2b74-f17a-49c5-8ec4-6376382bee17"
      },
      "execution_count": 15,
      "outputs": [
        {
          "output_type": "stream",
          "name": "stdout",
          "text": [
            "ANTES (5 ejemplos):\n",
            "     star_rating                                      title content_rating      genre  duration  \\\n",
            "671          7.7                                 Grindhouse              R     Action       191   \n",
            "726          7.6                            Sherlock Holmes          PG-13     Action       128   \n",
            "932          7.4  Harry Potter and the Order of the Phoenix          PG-13  Adventure       138   \n",
            "6            8.9             The Good, the Bad and the Ugly      NOT RATED    Western       161   \n",
            "954          7.4                                      X-Men          PG-13     Action       104   \n",
            "\n",
            "                                           actors_list  \n",
            "671  [u'Kurt Russell', u'Rose McGowan', u'Danny Tre...  \n",
            "726  [u'Robert Downey Jr.', u'Jude Law', u'Rachel M...  \n",
            "932  [u'Daniel Radcliffe', u'Emma Watson', u'Rupert...  \n",
            "6    [u'Clint Eastwood', u'Eli Wallach', u'Lee Van ...  \n",
            "954  [u'Patrick Stewart', u'Hugh Jackman', u'Ian Mc...  \n",
            "\n",
            "DESPUÉS (5 ejemplos):\n",
            "                    titulo     genero clasificacion  duracion_min  rating_imdb\n",
            "930                  Bound      Crime             R           108          7.4\n",
            "723      Leaving Las Vegas      Drama             R           111          7.6\n",
            "525  The Day of the Jackal      Crime            PG           143          7.8\n",
            "6         Schindler's List  Biography             R           195          8.9\n",
            "248       The Wizard of Oz  Adventure        PASSED           102          8.1\n"
          ]
        }
      ]
    }
  ]
}
